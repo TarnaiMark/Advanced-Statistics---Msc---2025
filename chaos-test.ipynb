{
 "cells": [
  {
   "cell_type": "markdown",
   "metadata": {},
   "source": [
    "# Statistical analysis of chaotic systems\n",
    "\n",
    "## Test"
   ]
  },
  {
   "cell_type": "markdown",
   "metadata": {},
   "source": [
    "Study the following onedimensional map, which is a curved version of the tent map:\n",
    "\n",
    "( Don't panic because of the complicated expression: you need this form only ones to solve this excersise)\n",
    "\n",
    "$$ f(x) = \\frac{1+2c-\\sqrt{(1-2c)^2+8c|1-2x|}}{4c}\\;\\;,\\;\\;\n",
    "x\\in[0,1]\\;\\;,\\;\\;  c\\in\\left[-\\frac{1}{2},\\frac{1}{2}\\right] $$\n",
    "\n",
    "It is good to know, that the inverses of the branches of the map are much simpler than $f(x)$,\n",
    "namely\n",
    "\n",
    "$$ f_L^{-1}(x) = \\left(c+\\frac{1}{2}\\right) x - c x^2 $$\n",
    "\n",
    "$$ f_R^{-1}(x) = 1 - \\left(c+\\frac{1}{2}\\right) x + c x^2 $$\n",
    "\n",
    "So whenever you need the derivative of the map you can use the fact that this derivative can be calculated as the inverse of the derivative of the inverse function at the iterated point,\n",
    "namely\n",
    "\n",
    "$$ f'(x) = \\frac{1}{(f_L^{-1})'(f(x))}\\;\\;\\;\\; \\mbox{or}\\;\\;\\;\\; f'(x) = \\frac{1}{(f_R^{-1})'(f(x))} $$\n",
    "\n",
    "You are expected to write the expressions (also in the code) for general values of $c$,\n",
    "and enter the values given below into the variable $c$ just before running the code.\n",
    "\n",
    "### Questions:\n",
    "\n",
    "**a)** Score 15\n",
    "\n",
    "Plot the mapping function for $c=0.25$ and $c=0.5$. Also plot 100--200 iterates of a typical initial point in function of time (number of iterations) for both parameter values. Do they look like chaotic processes?\n",
    "\n",
    "**b)** Score 20\n",
    "\n",
    "Show analytically, that the invariant density is linear in $x$, namely\n",
    "$$ p^*(x) = 1+2c -4cx $$.\n",
    "\n",
    "**c)** Score 15\n",
    "\n",
    "Check the above formula numerically, by plotting a histogram of a large number of iterates and comparing with the plot of the linear expression.\n",
    "The runtime should not exceed 42 sec.\n",
    "Do this for both values of $c$!\n",
    "\n",
    "**d)** Score 25\n",
    "\n",
    "Create a function that numerically implements the action of the Frobenius-Perron operator on a density. Value of $c$ should be an argument of the function. Do not forget to take modulus in the denominator (which has been corrected in the lecture notes).\n",
    "Check that the above $p^*(x)$ is invariant under action of the function!\n",
    "\n",
    "**e)** Score 25\n",
    "\n",
    "Check weather the convergence towards $p^*(x)$ is exponential or slower, for both given values of $c$!"
   ]
  }
 ],
 "metadata": {
  "anaconda-cloud": {},
  "kernelspec": {
   "display_name": "Python [conda env:root] *",
   "language": "python",
   "name": "conda-root-py"
  },
  "language_info": {
   "codemirror_mode": {
    "name": "ipython",
    "version": 3
   },
   "file_extension": ".py",
   "mimetype": "text/x-python",
   "name": "python",
   "nbconvert_exporter": "python",
   "pygments_lexer": "ipython3",
   "version": "3.9.13"
  }
 },
 "nbformat": 4,
 "nbformat_minor": 1
}
