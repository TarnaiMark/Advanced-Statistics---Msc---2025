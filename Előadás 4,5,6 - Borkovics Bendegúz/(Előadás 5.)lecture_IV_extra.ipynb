{
 "cells": [
  {
   "cell_type": "code",
   "execution_count": 1,
   "id": "a330451d-24d0-4ff3-90e1-ecc6c7795bda",
   "metadata": {
    "tags": []
   },
   "outputs": [],
   "source": [
    "import numpy as np\n",
    "from scipy import stats\n",
    "import matplotlib.pyplot as plt"
   ]
  },
  {
   "cell_type": "markdown",
   "id": "83e50443-f781-48d4-af13-48e12615df70",
   "metadata": {},
   "source": [
    "# Parameter inference in statistics, hypothesis testing\n",
    "\n",
    "## Parameter space, null and alternative hypothesis, rejection region\n",
    "\n",
    "<img src=\"figs_IV/parameter_space.drawio.png\">\n",
    "\n",
    "## Difference between a one-sided and a two-sided test\n",
    "\n",
    "A company claims that its new battery lasts at least 10 hours on average. A researcher tests this claim by measuring battery life in a sample of batteries.\n",
    "\n",
    "1. One-Sided (One-Tailed) Test:\\\n",
    "    A one-sided test checks if the battery life is less than 10 hours:\n",
    "    - $H_0$: The battery lasts at 10 hours.\\\n",
    "        $$H_0:\\mu=10$$\n",
    "    - $H_1$: The battery lasts less than 10 hours.\\\n",
    "        $$H_1:\\mu<10$$\n",
    "    - This is a left-tailed test because we are only interested in values below 10.\n",
    "    - If the test statistic falls in the left extreme of the distribution (below a critical value), we reject $H_0$.\n",
    "2. Two-Sided (Two-Tailed) Test:\\\n",
    "    A two-sided test checks if the battery life is different from 10 hours (either shorter or longer):\n",
    "    - $H_0$: The battery lasts exactly 10 hours.\\\n",
    "        $$H_0:\\mu=10$$\n",
    "    - $H_1$: The battery life is not 10 hours.\\\n",
    "        $$H_1:\\mu\\neq10$$\n",
    "    - This is a two-tailed test because we check for both shorter and longer battery life.\n",
    "    - Here, we reject $H_0$ if the test statistic falls in either tail of the distribution (too low or too high)."
   ]
  },
  {
   "cell_type": "markdown",
   "id": "ee9aa03d-ac2b-4ac1-ac1e-fdb02a7cf3fb",
   "metadata": {},
   "source": [
    "## Power function of a test\n",
    "\n",
    "- The power function of a test measures the probability of correctly rejecting the null hypothesis for different values of the true parameter.\\\n",
    "$$\\beta(\\theta)=P\\left(\\text{Reject } H_0∣\\theta\\right)$$\n",
    "- $\\beta(\\theta)$ is the probability of rejecting $H_0$ when the true parameter is $\\theta$.\n",
    "- Power of the test is $1−\\beta(\\theta)$, which is the probability of correctly rejecting $H_0$ when $H_1$ is true.\n",
    "\n",
    "Example:\n",
    "- We test for the population mean $T(x)=\\overline{X}$, so the test statistic is a sample mean:\n",
    "    $$H_0:\\mu=50$$\n",
    "    $$H_1:\\mu>50$$\n",
    "- We use a $Z$-test with significance level $\\alpha=0.05$.\n",
    "- Suppose we reject $H_0$ if $\\overline{X}\\geq52$.\n",
    "- With this, we set a critical value (or decision boundary), therefore the rejection region is:\n",
    "    $$R=\\left\\{x\\in\\mathcal{X}|\\overline{X}\\geq52\\right\\}$$.\n",
    "- Note that choosing the critical value is not arbitrary and this is just an example for unknown $n$ and $\\sigma$. (Will be explained later.)\n",
    "- If the true mean is actually $\\mu=53$ (here $H_1$ is definietly true), the power function is:\n",
    "    $$\\beta(53)=P\\left(\\overline{X}\\geq52∣\\mu=53\\right)$$\n",
    "- This can be computed using the normal distribution:\n",
    "    $$P\\left(Z\\geq\\frac{52-53}{\\sigma/\\sqrt{n}}\\right)$$\n",
    "- This gives the probability of correctly rejecting $H_0$ when $\\mu=53$, which is the power at $\\mu=53$.\n",
    "\n",
    "Note: Why should we assume $H_1$ is true instead of examining the original $\\mu=50$?\n",
    "- Otherwise it would look like this:\n",
    "    $$P\\left(\\overline{X}\\geq52∣\\mu=50\\right)=\\alpha$$\n",
    "    which means the probability of rejecting $H_0$ if $H_0$ is true, giving a type-I error. This gives the level of the test.\n",
    "    \n",
    "Lets continue!\n",
    "- Let the population standard deviation be $\\sigma=4$ and sample size $n=16$.\n",
    "- Due to the normal distribution and the known $\\sigma$, we can use the $Z$-test.\n",
    "    $$Z=\\frac{52-53}{1}=-1$$\n",
    "- Looking up the correct value in the standard table:\n",
    "    $$\\beta(53)=P(Z\\geq -1)=1-P(Z<-1)=1-0.1587=0.8413$$\n",
    "- This means that if the true population mean is 53 (so $H_1$ is true), there is an approximately 84.13% chance that our test will correctly reject the null hypothesis.\n",
    "\n",
    "### But the true $\\mu$ is 50, how does this factor into the calculation?\n",
    "\n",
    "- Originally:\n",
    "    $$\\beta(\\mu)=1-\\Phi\\left(\\frac{\\overline{X}-\\mu}{\\sigma/\\sqrt{n}}+Z_{\\alpha}\\right)+\\Phi\\left(\\frac{\\overline{X}-\\mu}{\\sigma/\\sqrt{n}}-Z_{\\alpha}\\right)$$\n",
    "- Since, $\\mu^*=53$ does not equal the original $\\mu=50$:\n",
    "    $$\\beta(\\mu)=1-\\Phi\\left(\\frac{\\left(\\overline{X}-\\mu\\right)-\\left(\\mu^*-\\mu\\right)}{\\sigma/\\sqrt{n}}+Z_{\\alpha}\\right)+\\Phi\\left(\\frac{\\left(\\overline{X}-\\mu\\right)-\\left(\\mu^*-\\mu\\right)}{\\sigma/\\sqrt{n}}-Z_{\\alpha}\\right)$$\n",
    "- Here, it is plain to see that the $\\mu$ terms disappear, therefore the true mean does not affect the probability."
   ]
  },
  {
   "cell_type": "code",
   "execution_count": 2,
   "id": "c14a6730-9332-495a-9a27-065a17471c7f",
   "metadata": {
    "tags": []
   },
   "outputs": [
    {
     "name": "stdout",
     "output_type": "stream",
     "text": [
      "Value of CDF at -1 is 0.1587.\n",
      "The power of the test is 0.8413.\n"
     ]
    }
   ],
   "source": [
    "z_score = -1\n",
    "cdf_value = stats.norm.cdf(z_score)\n",
    "print(f\"Value of CDF at {z_score} is {cdf_value:<.4f}.\")\n",
    "\n",
    "beta = 1 - cdf_value\n",
    "print(f\"The power of the test is {beta:<.4f}.\")"
   ]
  },
  {
   "cell_type": "markdown",
   "id": "1631aa73-7fa7-4146-bd49-9b7bee0609b1",
   "metadata": {},
   "source": [
    "## Level of a test\n",
    "\n",
    "We test for the population mean $T(x)=\\overline{X}$, so the test statistic is a sample mean:\\\n",
    "$$H_0:\\mu=50$$\n",
    "$$H_1:\\mu>50$$\n",
    "\n",
    "We assume:\n",
    "- The population standard deviation is $\\sigma=4$.\n",
    "- The sample size is $n=16$. (Although $n<30$, since $\\sigma$ is known using $Z$-score is still acceptable.)\n",
    "- We reject $H_0$ if the sample mean $\\overline{X}\\geq52$ (critical value $c=52$).\n",
    "\n",
    "What is the level of the test?\n",
    "\n",
    "Solution:\n",
    "- The level of the test is the probability of rejecting $H_0$ when $H_0$ is actually true:\\\n",
    "    $$\\alpha=P\\left(\\overline{X}\\geq52∣\\mu=50\\right)$$\n",
    "- Since $\\overline{X}$ follows a normal distribution:\n",
    "    $$\\overline{X}\\sim N\\left(50,\\frac{4}{\\sqrt{16}}\\right)=N(50,1)$$\n",
    "- We standardize using the Z-score formula:\n",
    "    $$Z=\\frac{\\overline{X}-\\mu}{\\sigma/\\sqrt{n}}=\\frac{52-50}{1}=2$$\n",
    "- From standard normal tables:\n",
    "    $$P(Z\\geq2)=1−P(Z\\leq2)=1−0.9772=0.0228$$\n",
    "- Thus, the level of the test is $\\alpha=0.0228$."
   ]
  },
  {
   "cell_type": "code",
   "execution_count": 3,
   "id": "4ab40263-2e0f-43d3-9491-6dc46d668a22",
   "metadata": {
    "tags": []
   },
   "outputs": [
    {
     "name": "stdout",
     "output_type": "stream",
     "text": [
      "Value of CDF at 2 is 0.9772.\n",
      "The level of the test is 0.0228.\n"
     ]
    }
   ],
   "source": [
    "z_score = 2\n",
    "cdf_value = stats.norm.cdf(z_score)\n",
    "print(f\"Value of CDF at {z_score} is {cdf_value:<.4f}.\")\n",
    "\n",
    "alpha = 1 - cdf_value\n",
    "print(f\"The level of the test is {alpha:<.4f}.\")"
   ]
  },
  {
   "cell_type": "markdown",
   "id": "fe0357af-585f-4a65-8737-62bcbd57c864",
   "metadata": {},
   "source": [
    "## Critical value\n",
    "\n",
    "Using the previous example, let's determine the exact critical value that corresponds to the level we computed: $\\alpha=0.0228$.\n",
    "\n",
    "- Since the test is right-tailed, the critical value $c$ satisfies:\n",
    "    $$P\\left(\\overline{X}\\geq c∣\\mu=50\\right)=0.0228$$\n",
    "- Since $\\overline{X}\\sim N(50,1)$, we standardize:\n",
    "    $$P\\left(Z\\geq \\frac{c−50}{1}\\right)=0.0228$$\n",
    "- From the $Z$-table, the quantile for $P\\left(Z\\geq z_{0.0228}\\right)=0.0228$ is:\n",
    "    $$z_{0.0228}=2$$\n",
    "- Solving for $c$:\n",
    "    $$\\frac{c-50}{1}=2$$\n",
    "- The critical value $c$:\n",
    "    $$c=50+(2\\cdot1)=52$$\n",
    "- So the original choice for $c$ was correct.\n",
    "\n",
    "#### Special note: In case of two-tailed tests, there are two critical values, the boundaries of the rejection region. These are the same as the confidence interval in exactly one scenario. This occurs when the sample mean is the same as the mean condition defined under $H_0$. $\\left(\\overline{X}=\\mu\\right)$"
   ]
  },
  {
   "cell_type": "code",
   "execution_count": 4,
   "id": "1ae54d0a-ce6c-43a2-95a7-e6293b5d6108",
   "metadata": {
    "tags": []
   },
   "outputs": [
    {
     "name": "stdout",
     "output_type": "stream",
     "text": [
      "Z-value is 1.9991.\n"
     ]
    }
   ],
   "source": [
    "z_value = stats.norm.ppf(1 - 0.0228)     #Inverse of CDF\n",
    "print(f\"Z-value is {z_value:<.4f}.\")\n",
    "#Approximately 2."
   ]
  },
  {
   "cell_type": "markdown",
   "id": "5b2b4d8e-f87b-42e5-a86f-828d07abef0c",
   "metadata": {},
   "source": [
    "## $p$-value\n",
    "\n",
    "Let's assume we observed a sample mean of $\\overline{X}=53$. We want to compute the $p$-value.\n",
    "- Calculate the $Z$-score:\n",
    "    $$Z=\\frac{53-50}{1}=3$$\n",
    "- Since $H_1$ is $\\mu>50$ (right-tailed test), the $p$-value is the area to the right of the calculated $Z$-score in the standard normal distribution.\n",
    "    $$p\\text{-value}=P(Z>3)=1-P(Z\\leq3)=1-0.9987=0.0013$$\n",
    "- This is much smaller than the significance level ($\\alpha$ = 0.0228), so we would reject the null hypothesis.\n",
    "- Note: If you had a different observed sample mean, you would need to recalculate the z-score and p-value accordingly.\n",
    "\n",
    "### In the context of extreme statistics\n",
    "\n",
    "- The $p$-value measures how extreme a test statistic is under the assumption that $H_0$ is true.\n",
    "- Def.: The $p$-value is the probability of obtaining a test statistic as extreme as or more extreme than the observed value, given that $H_0$ is true.\n",
    "- More extreme statistic $\\rightarrow$ Smaller $p$-value\n",
    "    - If the observed test statistic falls far into the tail of the null distribution, the p-value is small.\n",
    "    - This suggests that such an extreme result is unlikely under $H_0$, leading to rejection of $H_0$.\n",
    "- Less extreme statistic $\\rightarrow$ Larger $p$-value\n",
    "    - If the observed statistic is close to the center of the null distribution, the p-value is large.\n",
    "    - This suggests that the result is likely under $H_0$, so we do not reject $H_0$."
   ]
  },
  {
   "cell_type": "code",
   "execution_count": 5,
   "id": "db84efbf-01a6-4fa4-8df9-828d46edd32e",
   "metadata": {
    "tags": []
   },
   "outputs": [
    {
     "name": "stdout",
     "output_type": "stream",
     "text": [
      "Value of CDF at 3 is 0.9987.\n",
      "The level of the test is 0.0013.\n"
     ]
    }
   ],
   "source": [
    "z_score = 3\n",
    "cdf_value = stats.norm.cdf(z_score)\n",
    "print(f\"Value of CDF at {z_score} is {cdf_value:<.4f}.\")\n",
    "\n",
    "alpha = 1 - cdf_value\n",
    "print(f\"The level of the test is {alpha:<.4f}.\")"
   ]
  },
  {
   "cell_type": "markdown",
   "id": "79e33beb-6aca-4168-876c-ed444a81497d",
   "metadata": {},
   "source": [
    "## Commonly used test statistics in hypothesis testing\n",
    "\n",
    "1. $Z$-statistic ($Z$-score, sometimes called $u$-test)\n",
    "- Used in $Z$-tests for large sample sizes ($n\\geq30$)\n",
    "- Applied when the population standard deviation ($\\sigma$) is known\n",
    "- Formula:\n",
    "    $$Z=\\frac{\\overline{X}-\\mu_0}{\\sigma/\\sqrt{n}}$$\n",
    "\n",
    "2. $t$-statistic ($t$-score)\n",
    "- Used in $t$-tests for small sample sizes ($n<30$)\n",
    "- Applied when the population standard deviation is unknown\n",
    "- Formula:\n",
    "    $$t=\\frac{\\overline{X}-\\mu_0}{se/\\sqrt{n}}$$\n",
    "\n",
    "3. Chi-Square statistic ($\\chi^2$)\n",
    "- Used in Chi-Square tests (goodness of fit, independence, homogeneity)\n",
    "- Compares observed vs. expected frequencies\n",
    "- Formula:\n",
    "    $$\\chi^2=\\sum\\frac{(O-E)^2}{E}$$\n",
    "\n",
    "4. F-statistic:\n",
    "- Used in ANOVA (Analysis of Variance) to test whether multiple groups have the same mean.\n",
    "- Compares variances between groups.\n",
    "- Formula:\n",
    "    $$F=\\frac{\\text{Variance between groups}}{\\text{Variance within groups}}$$\n",
    "\n",
    "5. Wilcoxon Signed-Rank Test Statistic\n",
    "- Used in non-parametric tests for paired data.\n",
    "- Compares the median of a single sample to a known value or to compare two paired samples (dependent groups) when the normality assumption is questionable.\n",
    "- Do two samples come from the same distribution/cluster?\n",
    "- An alternative to the $t$-test when normality is not assumed.\n",
    "\n",
    "6. Mann-Whitney $u$-test\n",
    "- Used in non-parametric tests for independent samples.\n",
    "- Compares two independent groups to determine if one tends to have higher values than the other.\n",
    "- An alternative to the two-sample $t$-test when normality is not assumed."
   ]
  },
  {
   "cell_type": "markdown",
   "id": "9403bcec-44f7-4d9c-8c30-5c0d84c86243",
   "metadata": {
    "tags": []
   },
   "source": [
    "### $\\chi^2$ test\n",
    "\n",
    "A school administrator wants to check if there is a relationship between students' study habits and their pass/fail rates in a final exam.\\\n",
    "Two categorical variables:\n",
    "- Study Habit: \"Regular\", \"Occasional\", \"Rare\"\n",
    "- Exam Outcome: \"Pass\" or \"Fail\"\n",
    "\n",
    "The school surveys 100 students and organizes the results into a contingency table.\n",
    "\n",
    "$H_0$: Study habits and exam outcomes are independent.\n",
    "$H_1$: Study habits and exam outcomes are dependent."
   ]
  },
  {
   "cell_type": "code",
   "execution_count": 2,
   "id": "1974df6d-bbd7-42d6-896b-53a58110fd41",
   "metadata": {
    "tags": []
   },
   "outputs": [
    {
     "name": "stdout",
     "output_type": "stream",
     "text": [
      "Chi-Square Statistic: 12.5065\n",
      "p-value: 0.0019\n",
      "Degrees of Freedom: 2\n",
      "Expected Frequencies:\n",
      " [[32.5  17.5 ]\n",
      " [22.75 12.25]\n",
      " [ 9.75  5.25]]\n",
      "Reject H0: Study habits and exam outcome are dependent.\n"
     ]
    }
   ],
   "source": [
    "# Observed frequency table\n",
    "observed = np.array([[40, 10], [20, 15], [5, 10]])\n",
    "\n",
    "# Perform chi-square test\n",
    "chi2_stat, p_value, dof, expected = stats.chi2_contingency(observed)\n",
    "\n",
    "print(f\"Chi-Square Statistic: {chi2_stat:<.4f}\")\n",
    "print(f\"p-value: {p_value:<.4f}\")\n",
    "print(f\"Degrees of Freedom: {dof}\")\n",
    "print(\"Expected Frequencies:\\n\", expected)\n",
    "\n",
    "# Interpretation\n",
    "alpha = 0.05  # Significance level\n",
    "if p_value < alpha:\n",
    "    print(\"Reject H0: Study habits and exam outcome are dependent.\")\n",
    "else:\n",
    "    print(\"Fail to reject H0: No significant relationship.\")"
   ]
  },
  {
   "cell_type": "markdown",
   "id": "d339dcff-8b48-4193-a0f5-7eb2e04f6272",
   "metadata": {},
   "source": [
    "### F-statistic\n",
    "\n",
    "A teacher wants to test if three different teaching methods lead to different average test scores among students.\n",
    "- Method A: Traditional lectures\n",
    "- Method B: Online learning\n",
    "- Method C: Interactive workshops\n",
    "\n",
    "The teacher collects test scores from randomly selected students for each method.\n",
    "\n",
    "$H_0$: All three teaching methods lead to the same average score ($\\mu_A=\\mu_B=\\mu_C$).\\\n",
    "$H_1$: At least one group has a different mean."
   ]
  },
  {
   "cell_type": "code",
   "execution_count": 3,
   "id": "a7dd0a60-5c1d-4a89-b256-607bd1150620",
   "metadata": {
    "tags": []
   },
   "outputs": [
    {
     "name": "stdout",
     "output_type": "stream",
     "text": [
      "F-statistic: 1.5641, p-value: 0.2491\n",
      "Fail to reject H0: No significant difference among the methods.\n"
     ]
    }
   ],
   "source": [
    "# Test scores for each method\n",
    "method_A = [80, 85, 88, 92, 95]\n",
    "method_B = [78, 83, 85, 87, 89]\n",
    "method_C = [85, 86, 90, 92, 96]\n",
    "\n",
    "# Perform one-way ANOVA\n",
    "F_statistic, p_value = stats.f_oneway(method_A, method_B, method_C)\n",
    "\n",
    "print(f\"F-statistic: {F_statistic:<.4f}, p-value: {p_value:<.4f}\")\n",
    "\n",
    "# Interpretation\n",
    "alpha = 0.05  # Significance level\n",
    "if p_value < alpha:\n",
    "    print(\"Reject H0: At least one teaching method has a different mean score.\")\n",
    "else:\n",
    "    print(\"Fail to reject H0: No significant difference among the methods.\")"
   ]
  },
  {
   "cell_type": "markdown",
   "id": "9b8ece87-0fc5-4633-9edc-3d82feb64814",
   "metadata": {},
   "source": [
    "### Wilcoxon signed-rank test\n",
    "\n",
    "A company wants to test whether a new training program improves employee performance.\n",
    "- They take the test before and after training.\n",
    "- We use the Wilcoxon signed-rank test to check whether the median performance score has significantly changed.\n",
    "\n",
    "$H_0$: The median difference is zero (no change in performance).\\\n",
    "$H_1$: The median difference is not zero (performance changed)."
   ]
  },
  {
   "cell_type": "code",
   "execution_count": 8,
   "id": "1d0b6824-7548-44ba-ad7d-cbada75fe113",
   "metadata": {
    "tags": []
   },
   "outputs": [
    {
     "name": "stdout",
     "output_type": "stream",
     "text": [
      "Test Statistic: 1.5000, p-value: 0.0234\n",
      "Reject H0: The training had a significant effect on performance.\n"
     ]
    }
   ],
   "source": [
    "pre_training = [70, 82, 90, 65, 88, 76, 80, 85]\n",
    "post_training = [75, 88, 92, 70, 86, 80, 85, 90]\n",
    "\n",
    "# Perform Wilcoxon signed-rank test\n",
    "stat, p_value = stats.wilcoxon(pre_training, post_training)\n",
    "\n",
    "print(f\"Test Statistic: {stat:<.4f}, p-value: {p_value:<.4f}\")\n",
    "\n",
    "# Interpretation\n",
    "alpha = 0.05  # Significance level\n",
    "if p_value < alpha:\n",
    "    print(\"Reject H0: The training had a significant effect on performance.\")\n",
    "else:\n",
    "    print(\"Fail to reject H0: No significant change in performance.\")"
   ]
  },
  {
   "cell_type": "markdown",
   "id": "ca524a30-36c7-409d-9563-64a8e1034df2",
   "metadata": {},
   "source": [
    "### Mann-Whitney 𝑢-test\n",
    "A researcher wants to compare two study techniques to see if one leads to higher test scores than the other.\n",
    "- Group A: Students using the self-study method\n",
    "- Group B: Students using the tutor-assisted method\n",
    "\n",
    "Each group consists of 6 students.\n",
    "\n",
    "$H_0$: Both groups have the same distribution of test scores.\\\n",
    "$H_1$: The tutor-assisted group tends to have higher scores than the self-study group.\n",
    "\n",
    "Since we are testing if one group has higher values than the other, we use a one-tailed test."
   ]
  },
  {
   "cell_type": "code",
   "execution_count": 9,
   "id": "78f2ec86-26b1-4073-a749-4077ffe9f23d",
   "metadata": {
    "tags": []
   },
   "outputs": [
    {
     "name": "stdout",
     "output_type": "stream",
     "text": [
      "U-statistic: 18.5000, p-value: 0.5637\n",
      "Fail to reject H0: No significant difference between groups.\n"
     ]
    }
   ],
   "source": [
    "# Test scores for each group\n",
    "self_study = [78, 82, 88, 94, 96, 99]\n",
    "tutor_assisted = [85, 88, 91, 89, 92, 95]\n",
    "\n",
    "# Perform Mann-Whitney U-test (one-tailed)\n",
    "U_statistic, p_value = stats.mannwhitneyu(self_study, tutor_assisted, alternative=\"less\")\n",
    "\n",
    "print(f\"U-statistic: {U_statistic:<.4f}, p-value: {p_value:<.4f}\")\n",
    "\n",
    "# Interpretation\n",
    "alpha = 0.05  # Significance level\n",
    "if p_value < alpha:\n",
    "    print(\"Reject H0: The tutor-assisted group has significantly higher scores.\")\n",
    "else:\n",
    "    print(\"Fail to reject H0: No significant difference between groups.\")"
   ]
  },
  {
   "cell_type": "markdown",
   "id": "fb9f971f-bdd0-4527-b536-97dec099c60e",
   "metadata": {},
   "source": [
    "## How to check for normality?\n",
    "\n",
    "1. Histogram plot\n",
    "    - Bell-shaped curve: normal dist.\n",
    "2. Quantile-Quantile plot (Q-Q plot)\n",
    "    - Compares the data's quantiles to those of a normal dist.\n",
    "    - If points fall along the 45-degree line, the data is approximately normal.\n",
    "3. Central limit theorem (rule of thumb)\n",
    "4. Statistical normality tests\n",
    "    - Shapiro-Wilk test\n",
    "        - $H_0$: normal dist., $H_1$: not normal dist., at $p\\text{-value}<0.05$ reject $H_0$\n",
    "        - Worse for large $n$\n",
    "    - Anderson-Darling test\n",
    "        - Same as S-W test but for different significance levels too\n",
    "        - Sensitive to deviations in tails\n",
    "    - Kolmogorov-Smirnov test\n",
    "        - Compares data to normal dist.\n",
    "        - Worse for small $n$"
   ]
  },
  {
   "cell_type": "code",
   "execution_count": 23,
   "id": "54f07124-8158-4da9-a73c-ff716bdf0eb9",
   "metadata": {},
   "outputs": [
    {
     "data": {
      "image/png": "[encoded data removed]",
      "text/plain": [
       "<Figure size 640x480 with 1 Axes>"
      ]
     },
     "metadata": {},
     "output_type": "display_data"
    }
   ],
   "source": [
    "# Generate sample data (example)\n",
    "data = np.random.normal(loc=50, scale=10, size=5)\n",
    "\n",
    "# Plot histogram\n",
    "plt.hist(data, bins=10, alpha=0.7, color='blue', edgecolor='black', density=True)\n",
    "plt.xlabel(\"Value\")\n",
    "plt.ylabel(\"Frequency\")\n",
    "plt.title(\"Histogram of data\")\n",
    "plt.grid()\n",
    "plt.show()"
   ]
  },
  {
   "cell_type": "code",
   "execution_count": 17,
   "id": "1121c974-1b3d-4a3d-a410-b026e79a8857",
   "metadata": {},
   "outputs": [
    {
     "data": {
      "image/png": "[encoded data removed]",
      "text/plain": [
       "<Figure size 640x480 with 1 Axes>"
      ]
     },
     "metadata": {},
     "output_type": "display_data"
    }
   ],
   "source": [
    "# Q-Q Plot\n",
    "stats.probplot(data, dist=\"norm\", plot=plt)\n",
    "plt.title(\"Q-Q plot\")\n",
    "plt.grid()\n",
    "plt.show()"
   ]
  },
  {
   "cell_type": "code",
   "execution_count": 15,
   "id": "5e9fd2f5-8927-42f6-8434-27cf89e3048f",
   "metadata": {},
   "outputs": [
    {
     "name": "stdout",
     "output_type": "stream",
     "text": [
      "Shapiro-Wilk test: p-value = 0.5551\n",
      "Data is normally distributed (Fail to Reject H0)\n"
     ]
    }
   ],
   "source": [
    "stat, p_value = stats.shapiro(data)\n",
    "print(f\"Shapiro-Wilk test: p-value = {p_value:.4f}\")\n",
    "\n",
    "if p_value < 0.05:\n",
    "    print(\"Data is NOT normally distributed (Reject H0)\")\n",
    "else:\n",
    "    print(\"Data is normally distributed (Fail to Reject H0)\")"
   ]
  },
  {
   "cell_type": "code",
   "execution_count": 26,
   "id": "b81acd08-fce6-4816-8455-5897139f4853",
   "metadata": {},
   "outputs": [
    {
     "name": "stdout",
     "output_type": "stream",
     "text": [
      "Anderson-Darling Test Statistic: 0.5766994402256245\n",
      "Critical Values: [0.555 0.632 0.759 0.885 1.053]\n",
      "Significance Levels: [15.  10.   5.   2.5  1. ]\n",
      "Data is normally distributed (Fail to Reject H0 at 5%)\n"
     ]
    }
   ],
   "source": [
    "result = stats.anderson(data, dist=\"norm\")\n",
    "print(\"Anderson-Darling Test Statistic:\", result.statistic)\n",
    "print(\"Critical Values:\", result.critical_values)\n",
    "print(\"Significance Levels:\", result.significance_level)\n",
    "\n",
    "if result.statistic > result.critical_values[2]:  # Compare at 5% level\n",
    "    print(\"Data is NOT normally distributed (Reject H0 at 5%)\")\n",
    "else:\n",
    "    print(\"Data is normally distributed (Fail to Reject H0 at 5%)\")"
   ]
  },
  {
   "cell_type": "code",
   "execution_count": 24,
   "id": "9a9a97b6-98f6-446d-8d81-6a064896db0d",
   "metadata": {},
   "outputs": [
    {
     "name": "stdout",
     "output_type": "stream",
     "text": [
      "K-S Test: p-value = 0.9983\n",
      "Data is normally distributed (Fail to Reject H0)\n"
     ]
    }
   ],
   "source": [
    "stat, p_value = stats.kstest(data, 'norm', args=(np.mean(data), np.std(data)))\n",
    "print(f\"K-S Test: p-value = {p_value:.4f}\")\n",
    "\n",
    "if p_value < 0.05:\n",
    "    print(\"Data is NOT normally distributed (Reject H0)\")\n",
    "else:\n",
    "    print(\"Data is normally distributed (Fail to Reject H0)\")"
   ]
  },
  {
   "cell_type": "markdown",
   "id": "4be06fff-f9f2-46f0-b641-bf47cf98f2b1",
   "metadata": {},
   "source": [
    "## Some homework\n",
    "\n",
    "1. A factory claims that its light bulbs last on average 800 hours. A sample of $n=25$ bulbs has a sample mean lifetime of 780 hours, with a known population standard deviation of 50 hours.\\\n",
    "    Test the hypothesis $H_0:\\mu=800$ vs. $H_1:\\mu<800$ at 5% significance. Compute the power function for $\\mu=770$.\\\n",
    "    Hint: Firstly, compute the critical value $c$ using the $Z$-score at $\\alpha$ with $\\mu=800$. Secondly, compute the power function\n",
    "     $P\\left(\\overline{X}\\leq c|\\mu=770\\right)$.\n",
    "2. A researcher tests whether a new fertilizer increases plant growth. The null hypothesis is that the mean plant height is 50 cm.\\\n",
    "    If the sample mean is 52 cm, standard deviation is 5 cm, and $n=36$, compute the power of the test at $\\mu=53$, given a 5% significance level.\n",
    "3. A drug manufacturer claims that its painkiller provides relief in 30 minutes. A test is conducted where $n=20$ patients take the drug, and the sample mean relief time is 28 minutes with a sample standard deviation of 4 minutes.\\\n",
    "    Compute the level of the test if the rejection region is set at $\\overline{X}\\leq27$.\\\n",
    "    Hint: Firstly, compute the test statistic ($t$-test). Secondly, compute the level $P\\left(\\overline{X}\\leq 27|\\mu=30\\right)$.\n",
    "4. A company tests a new battery and wants to control the probability of falsely rejecting the null hypothesis $H_0:\\mu=500$ hours.\\\n",
    "    If they set a critical value of 490 hours based on a sample of $n=40$ and a standard deviation of 20 hours, find the level of the test.\n",
    "5. A researcher conducts a two-tailed test for the mean cholesterol level of a population with $H_0:\\mu=200$. The sample size is $n=36$, and the population standard deviation is 15.\\\n",
    "    Find the critical values for a 1% significance level.\\\n",
    "    Hint: First, compute the critical $Z$-values. (2-sided test: 2 critical $Z$s at $\\alpha/2$ and $(1-\\alpha/2)$) Then, compute the lower and upper critical values.\n",
    "6. In a quality control test, the weight of a product is tested using a one-tailed test at a 5% significance level. If the sample size is 25, and the population standard deviation is 3, determine the critical value for rejecting $H_0:\\mu\\geq10$.\n",
    "7. A survey shows that the average time students spend studying is 4.5 hours per day. A test is conducted with a sample of $n=49$, finding a sample mean of 4.2 hours and a population standard deviation of 1.4 hours.\\\n",
    "    Compute the $p$-value for testing $H_0:\\mu=4.5$ vs. $H_1:\\mu\\neq4.5$.\\\n",
    "    Hint: First, compute the $Z$-test statistic. Then, compute the $p$-value. This is a 2-sided test: $p\\text{-value}=2\\cdot P(Z<z)$.\n",
    "8. A researcher tests whether a new diet plan reduces average body weight. The null hypothesis states that the average weight before the diet is 75 kg. After a month, a sample of $n=16$ people has an average weight of 72 kg with a sample standard deviation of 6 kg.\\\n",
    "    Compute the $p$-value for testing $H_0:\\mu=75$ vs. $H_1:\\mu<75$."
   ]
  }
 ],
 "metadata": {
  "kernelspec": {
   "display_name": "Python 3 (ipykernel)",
   "language": "python",
   "name": "python3"
  },
  "language_info": {
   "codemirror_mode": {
    "name": "ipython",
    "version": 3
   },
   "file_extension": ".py",
   "mimetype": "text/x-python",
   "name": "python",
   "nbconvert_exporter": "python",
   "pygments_lexer": "ipython3",
   "version": "3.13.1"
  }
 },
 "nbformat": 4,
 "nbformat_minor": 5
}
