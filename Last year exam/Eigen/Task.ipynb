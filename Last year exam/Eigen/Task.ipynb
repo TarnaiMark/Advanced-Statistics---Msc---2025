{
 "cells": [
  {
   "cell_type": "markdown",
   "metadata": {},
   "source": [
    "# Task"
   ]
  },
  {
   "cell_type": "markdown",
   "metadata": {},
   "source": [
    "In the four files `a.npy`, `b.npy`, `c.npy` and `d.npy` you will find four matrices encoded in the standard `numpy.array` format. Characterize all three matrices based on the statistical properties of their eigenvalue spectrum (eigenvalues and level spacings) and answer the following questions:\n",
    "\n",
    "- Which matrix can represent a Hamiltonian of a chaotic quantum system and why?\n",
    "- Which matrix can represent a Hamiltonian of a chaotic system with time reversal symmetry and why? \n",
    "- Which matrix can represent a Hamiltonian of a dynamical system and why?\n",
    "\n",
    "\n",
    "you can simply read in the files using `numpy`'s `load` [function](https://numpy.org/doc/stable/reference/generated/numpy.load.html). \n"
   ]
  }
 ],
 "metadata": {
  "kernelspec": {
   "display_name": "Python 3",
   "language": "python",
   "name": "python3"
  },
  "language_info": {
   "codemirror_mode": {
    "name": "ipython",
    "version": 3
   },
   "file_extension": ".py",
   "mimetype": "text/x-python",
   "name": "python",
   "nbconvert_exporter": "python",
   "pygments_lexer": "ipython3",
   "version": "3.7.3"
  }
 },
 "nbformat": 4,
 "nbformat_minor": 4
}
