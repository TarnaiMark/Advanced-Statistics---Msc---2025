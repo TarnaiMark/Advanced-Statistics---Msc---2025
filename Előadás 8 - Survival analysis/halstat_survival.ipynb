{
  "cells": [
    {
      "cell_type": "markdown",
      "metadata": {
        "id": "view-in-github",
        "colab_type": "text"
      },
      "source": [
        "<a href=\"https://colab.research.google.com/github/TarnaiMark/AdvStat/blob/main/halstat_survival.ipynb\" target=\"_parent\"><img src=\"https://colab.research.google.com/assets/colab-badge.svg\" alt=\"Open In Colab\"/></a>"
      ]
    },
    {
      "cell_type": "markdown",
      "id": "684bc5a6",
      "metadata": {
        "id": "684bc5a6"
      },
      "source": [
        "# Exercises"
      ]
    },
    {
      "cell_type": "code",
      "execution_count": null,
      "id": "7ac5ddbd",
      "metadata": {
        "id": "7ac5ddbd"
      },
      "outputs": [],
      "source": [
        "!pip install lifelines scikit-survival"
      ]
    },
    {
      "cell_type": "code",
      "execution_count": null,
      "id": "2ca998bb",
      "metadata": {
        "id": "2ca998bb"
      },
      "outputs": [],
      "source": [
        "import numpy as np\n",
        "import pandas as pd\n",
        "import lifelines as lf\n",
        "import matplotlib.pyplot as plt\n",
        "import seaborn as sns\n",
        "sns.set_theme()"
      ]
    },
    {
      "cell_type": "markdown",
      "id": "785aab4c",
      "metadata": {
        "id": "785aab4c"
      },
      "source": [
        "## 0.) Pre-processing"
      ]
    },
    {
      "cell_type": "markdown",
      "id": "e3f48b74",
      "metadata": {
        "id": "e3f48b74"
      },
      "source": [
        "Load the <i><a href=\"https://scikit-survival.readthedocs.io/en/stable/api/generated/sksurv.datasets.load_veterans_lung_cancer.html\">Veteran's Lung Cancer</a></i> dataset from <code>scikit-survival</code>! Note that it returns a <code>Pandas</code> DataFrame of the features, and a structured array containing the survival times, and censoring status."
      ]
    },
    {
      "cell_type": "code",
      "execution_count": null,
      "id": "63b8f536",
      "metadata": {
        "id": "63b8f536"
      },
      "outputs": [],
      "source": [
        "from sksurv.datasets import load_veterans_lung_cancer\n",
        "df,y = load_veterans_lung_cancer()"
      ]
    },
    {
      "cell_type": "markdown",
      "source": [
        "Add the survival time and censoring status to the DataFrame as new columns!"
      ],
      "metadata": {
        "id": "ub2pIluotWXB"
      },
      "id": "ub2pIluotWXB"
    },
    {
      "cell_type": "code",
      "source": [],
      "metadata": {
        "id": "8TXuG16mtlcG"
      },
      "id": "8TXuG16mtlcG",
      "execution_count": null,
      "outputs": []
    },
    {
      "cell_type": "markdown",
      "id": "efe3fa03",
      "metadata": {
        "id": "efe3fa03"
      },
      "source": [
        "Take a look at the features! What kind of features do you see?"
      ]
    },
    {
      "cell_type": "code",
      "execution_count": null,
      "id": "f2e7ca75",
      "metadata": {
        "id": "f2e7ca75"
      },
      "outputs": [],
      "source": []
    },
    {
      "cell_type": "code",
      "source": [],
      "metadata": {
        "id": "7i712MU5wM3b"
      },
      "id": "7i712MU5wM3b",
      "execution_count": null,
      "outputs": []
    },
    {
      "cell_type": "markdown",
      "id": "649032f8",
      "metadata": {
        "id": "649032f8"
      },
      "source": [
        "Use one-hot-encoding on the categorical features!\n",
        "\n",
        "Hint: [<code>pd.get_dummies(drop_first=True)</code>](https://pandas.pydata.org/docs/reference/api/pandas.get_dummies.html)"
      ]
    },
    {
      "cell_type": "code",
      "source": [],
      "metadata": {
        "id": "DFJ62tknwM1H"
      },
      "id": "DFJ62tknwM1H",
      "execution_count": null,
      "outputs": []
    },
    {
      "cell_type": "markdown",
      "id": "cb670092",
      "metadata": {
        "id": "cb670092"
      },
      "source": [
        "Scale the the numeric features (except for the survival time) to have zero mean and unit variance!\n",
        "\n",
        "Hint: [`sklearn.preprocessing.scale`](https://scikit-learn.org/stable/modules/generated/sklearn.preprocessing.scale.html)"
      ]
    },
    {
      "cell_type": "code",
      "source": [
        "from sklearn.preprocessing import scale"
      ],
      "metadata": {
        "id": "70Twfv6T0MCX"
      },
      "id": "70Twfv6T0MCX",
      "execution_count": null,
      "outputs": []
    },
    {
      "cell_type": "code",
      "execution_count": null,
      "id": "80260942",
      "metadata": {
        "id": "80260942"
      },
      "outputs": [],
      "source": []
    },
    {
      "cell_type": "code",
      "source": [],
      "metadata": {
        "id": "dPTGnwu_2ljm"
      },
      "id": "dPTGnwu_2ljm",
      "execution_count": null,
      "outputs": []
    },
    {
      "cell_type": "markdown",
      "id": "7bd1872c",
      "metadata": {
        "id": "7bd1872c"
      },
      "source": [
        "## 1.) Kaplan-Meier estimator"
      ]
    },
    {
      "cell_type": "markdown",
      "id": "86c70d76",
      "metadata": {
        "id": "86c70d76"
      },
      "source": [
        "Stratify the population according to some rule! This could be based on categories or numerical features. Calculate the Kaplan-Meier estimator (<code style=\"font-size:9px;\"><a href=\"https://lifelines.readthedocs.io/en/latest/fitters/univariate/KaplanMeierFitter.html\">lifelines.fitters.kaplan_meier_fitter.KaplanMeierFitter</a></code>) for each group and plot the results. Do the plots seem to show any differences?"
      ]
    },
    {
      "cell_type": "code",
      "execution_count": null,
      "id": "e1ea91cd",
      "metadata": {
        "id": "e1ea91cd"
      },
      "outputs": [],
      "source": []
    },
    {
      "cell_type": "code",
      "source": [],
      "metadata": {
        "id": "91ZxMKIkx823"
      },
      "id": "91ZxMKIkx823",
      "execution_count": null,
      "outputs": []
    },
    {
      "cell_type": "code",
      "execution_count": null,
      "id": "a01e6f76",
      "metadata": {
        "id": "a01e6f76"
      },
      "outputs": [],
      "source": []
    },
    {
      "cell_type": "markdown",
      "id": "f838ea5b",
      "metadata": {
        "id": "f838ea5b"
      },
      "source": [
        "Perform a logrank test to see whether these splits are meaningful. You can use <code style=\"font-size:9px;\"><a href=\"https://lifelines.readthedocs.io/en/latest/lifelines.statistics.html#lifelines.statistics.logrank_test\">lifelines.statistics.logrank_test</a></code>.\n",
        "\n",
        "\n",
        "\n"
      ]
    },
    {
      "cell_type": "code",
      "source": [],
      "metadata": {
        "id": "7oGIfwpV7ngg"
      },
      "id": "7oGIfwpV7ngg",
      "execution_count": null,
      "outputs": []
    },
    {
      "cell_type": "code",
      "source": [],
      "metadata": {
        "id": "riL84vwJ7neN"
      },
      "id": "riL84vwJ7neN",
      "execution_count": null,
      "outputs": []
    },
    {
      "cell_type": "code",
      "source": [],
      "metadata": {
        "id": "mGTPiUZY7nYh"
      },
      "id": "mGTPiUZY7nYh",
      "execution_count": null,
      "outputs": []
    },
    {
      "cell_type": "markdown",
      "source": [
        "Heed the advice in the lifelines docs and repeat the testing with likelihood ratio test. Are the splits still meaningful? Fit a Cox proportional hazards model on a binary indicator of group membership. If the corresponding coefficient is confirmed by the likelihood ratio test to be non-zero, that means the grouping is meaningful."
      ],
      "metadata": {
        "id": "PkNSy3XXw2oR"
      },
      "id": "PkNSy3XXw2oR"
    },
    {
      "cell_type": "code",
      "source": [
        "from lifelines.fitters.coxph_fitter import CoxPHFitter"
      ],
      "metadata": {
        "id": "IV-v0xxyw271"
      },
      "id": "IV-v0xxyw271",
      "execution_count": null,
      "outputs": []
    },
    {
      "cell_type": "code",
      "source": [],
      "metadata": {
        "id": "aYUwRFP4w3ag"
      },
      "id": "aYUwRFP4w3ag",
      "execution_count": null,
      "outputs": []
    },
    {
      "cell_type": "code",
      "source": [],
      "metadata": {
        "id": "IPRVtv3kw3LU"
      },
      "id": "IPRVtv3kw3LU",
      "execution_count": null,
      "outputs": []
    },
    {
      "cell_type": "markdown",
      "id": "75379662",
      "metadata": {
        "id": "75379662"
      },
      "source": [
        "## 2.)The Cox Proportional Hazards Model"
      ]
    },
    {
      "cell_type": "markdown",
      "id": "01c97f09",
      "metadata": {
        "id": "01c97f09"
      },
      "source": [
        "Fit the [Cox proportional hazards model](https://lifelines.readthedocs.io/en/latest/fitters/regression/CoxPHFitter.html) to the preprocessed dataset! Plot the weights! According to them, which feature is the most influential?\""
      ]
    },
    {
      "cell_type": "code",
      "source": [],
      "metadata": {
        "id": "_b1htyyzFKmU"
      },
      "id": "_b1htyyzFKmU",
      "execution_count": null,
      "outputs": []
    },
    {
      "cell_type": "code",
      "source": [],
      "metadata": {
        "id": "dWf34Ce6FKiF"
      },
      "id": "dWf34Ce6FKiF",
      "execution_count": null,
      "outputs": []
    },
    {
      "cell_type": "markdown",
      "source": [
        "Is there any feature where the hypothesis for a zero coefficient cannot be discarded? Look at the Wald-test results!"
      ],
      "metadata": {
        "id": "5yW3jaduGBxX"
      },
      "id": "5yW3jaduGBxX"
    },
    {
      "cell_type": "code",
      "source": [],
      "metadata": {
        "id": "47NDDfEhGCTa"
      },
      "id": "47NDDfEhGCTa",
      "execution_count": null,
      "outputs": []
    },
    {
      "cell_type": "markdown",
      "source": [
        "Could these results be due to the data having some time-varying effect? Check the assumptions by using a 95% confidence interval and plotting the scaled Schoenfeld residuals!"
      ],
      "metadata": {
        "id": "Z8eLXJBZGejZ"
      },
      "id": "Z8eLXJBZGejZ"
    },
    {
      "cell_type": "code",
      "source": [],
      "metadata": {
        "id": "ijtRh6jAGeNS"
      },
      "id": "ijtRh6jAGeNS",
      "execution_count": null,
      "outputs": []
    },
    {
      "cell_type": "markdown",
      "source": [
        "Heed **Advice 2** and stratify the model. After stratification, each stratum will have its own CPH model that will hopefully satisfy the proportional hazards assumption.\n",
        "\n",
        "Hint: Use [`pd.qcut`](https://pandas.pydata.org/docs/reference/api/pandas.qcut.html) to bin any numeric features according to the median (2-quantile)."
      ],
      "metadata": {
        "id": "vGKCQvoVH7aR"
      },
      "id": "vGKCQvoVH7aR"
    },
    {
      "cell_type": "code",
      "source": [],
      "metadata": {
        "id": "hb3JQax4lAkC"
      },
      "id": "hb3JQax4lAkC",
      "execution_count": null,
      "outputs": []
    },
    {
      "cell_type": "markdown",
      "source": [
        "## 3.) Concordance index\n",
        "Unfortunetly Uno's IPC-weighted c-index is not implemented in lifelines, so we have to use the [scikit-survival implementation](https://scikit-survival.readthedocs.io/en/stable/api/generated/sksurv.metrics.concordance_index_ipcw.html). This also requires [`sksurv.utils.Surv`](https://scikit-survival.readthedocs.io/en/stable/api/generated/sksurv.util.Surv.html) to create the structured arrays, which are then passed on to the metric."
      ],
      "metadata": {
        "id": "QITQlOHirjCJ"
      },
      "id": "QITQlOHirjCJ"
    },
    {
      "cell_type": "markdown",
      "source": [
        "Calculate the c-index, for various truncation times in a 5-fold cross-validation scheme for both the stratified and unstratified models! What do you observe?"
      ],
      "metadata": {
        "id": "sv_wi_sRs7zj"
      },
      "id": "sv_wi_sRs7zj"
    },
    {
      "cell_type": "code",
      "source": [
        "from sksurv.util import Surv\n",
        "from sksurv.metrics import concordance_index_ipcw\n",
        "from sklearn.model_selection import KFold\n",
        "\n",
        "def concordance_index_ipcw_5fold_scorer(model,df,tau,**kwargs):"
      ],
      "metadata": {
        "id": "zXW6wdB1JX8E"
      },
      "id": "zXW6wdB1JX8E",
      "execution_count": null,
      "outputs": []
    },
    {
      "cell_type": "code",
      "source": [],
      "metadata": {
        "id": "EdQ2McBmzBhU"
      },
      "id": "EdQ2McBmzBhU",
      "execution_count": null,
      "outputs": []
    },
    {
      "cell_type": "markdown",
      "source": [
        "What do you think are the reasons for the results?"
      ],
      "metadata": {
        "id": "xJcJuYhm67WO"
      },
      "id": "xJcJuYhm67WO"
    },
    {
      "cell_type": "code",
      "source": [],
      "metadata": {
        "id": "Wd7Y3rD86645"
      },
      "id": "Wd7Y3rD86645",
      "execution_count": null,
      "outputs": []
    },
    {
      "cell_type": "code",
      "source": [],
      "metadata": {
        "id": "hWTWC_CoGugV"
      },
      "id": "hWTWC_CoGugV",
      "execution_count": null,
      "outputs": []
    },
    {
      "cell_type": "code",
      "source": [],
      "metadata": {
        "id": "tR8Ehr9nG_tY"
      },
      "id": "tR8Ehr9nG_tY",
      "execution_count": null,
      "outputs": []
    },
    {
      "cell_type": "code",
      "source": [],
      "metadata": {
        "id": "aOkruwUOG_w7"
      },
      "id": "aOkruwUOG_w7",
      "execution_count": null,
      "outputs": []
    }
  ],
  "metadata": {
    "kernelspec": {
      "display_name": "Python 3 (ipykernel)",
      "language": "python",
      "name": "python3"
    },
    "language_info": {
      "codemirror_mode": {
        "name": "ipython",
        "version": 3
      },
      "file_extension": ".py",
      "mimetype": "text/x-python",
      "name": "python",
      "nbconvert_exporter": "python",
      "pygments_lexer": "ipython3",
      "version": "3.8.10"
    },
    "colab": {
      "provenance": [],
      "include_colab_link": true
    }
  },
  "nbformat": 4,
  "nbformat_minor": 5
}